{
  "cells": [
    {
      "cell_type": "markdown",
      "metadata": {
        "colab_type": "text",
        "id": "view-in-github"
      },
      "source": [
        "<a href=\"https://colab.research.google.com/github/mrdbourke/pytorch-deep-learning/blob/main/extras/exercises/01_pytorch_workflow_exercises.ipynb\" target=\"_parent\"><img src=\"https://colab.research.google.com/assets/colab-badge.svg\" alt=\"Open In Colab\"/></a>"
      ]
    },
    {
      "cell_type": "markdown",
      "metadata": {
        "id": "N8LsPXZti9Sw"
      },
      "source": [
        "# 01. PyTorch Workflow Exercise Template\n",
        "\n",
        "The following is a template for the PyTorch workflow exercises.\n",
        "\n",
        "It's only starter code and it's your job to fill in the blanks.\n",
        "\n",
        "Because of the flexibility of PyTorch, there may be more than one way to answer the question.\n",
        "\n",
        "Don't worry about trying to be *right* just try writing code that suffices the question.\n",
        "\n",
        "You can see one form of [solutions on GitHub](https://github.com/mrdbourke/pytorch-deep-learning/tree/main/extras/solutions) (but try the exercises below yourself first!)."
      ]
    },
    {
      "cell_type": "code",
      "execution_count": 1,
      "metadata": {
        "id": "Glu2fM4dkNlx"
      },
      "outputs": [],
      "source": [
        "# Import necessary libraries\n",
        "import torch \n",
        "import torch.nn as nn\n",
        "import matplotlib.pyplot as plt"
      ]
    },
    {
      "cell_type": "code",
      "execution_count": 2,
      "metadata": {
        "id": "LqKhXY26m31s"
      },
      "outputs": [],
      "source": [
        "# Setup device-agnostic code\n",
        "device = 'cuda' if torch.cuda.is_available else 'cpu'"
      ]
    },
    {
      "cell_type": "markdown",
      "metadata": {
        "id": "g7HUhxCxjeBx"
      },
      "source": [
        "## 1. Create a straight line dataset using the linear regression formula (`weight * X + bias`).\n",
        "  * Set `weight=0.3` and `bias=0.9` there should be at least 100 datapoints total. \n",
        "  * Split the data into 80% training, 20% testing.\n",
        "  * Plot the training and testing data so it becomes visual.\n",
        "\n",
        "Your output of the below cell should look something like:\n",
        "```\n",
        "Number of X samples: 100\n",
        "Number of y samples: 100\n",
        "First 10 X & y samples:\n",
        "X: tensor([0.0000, 0.0100, 0.0200, 0.0300, 0.0400, 0.0500, 0.0600, 0.0700, 0.0800,\n",
        "        0.0900])\n",
        "y: tensor([0.9000, 0.9030, 0.9060, 0.9090, 0.9120, 0.9150, 0.9180, 0.9210, 0.9240,\n",
        "        0.9270])\n",
        "```\n",
        "\n",
        "Of course the numbers in `X` and `y` may be different but ideally they're created using the linear regression formula."
      ]
    },
    {
      "cell_type": "code",
      "execution_count": 3,
      "metadata": {
        "id": "KbDG5MV7jhvE"
      },
      "outputs": [
        {
          "name": "stdout",
          "output_type": "stream",
          "text": [
            "Number of X samples: 100\n",
            "Number of y samples: 100\n",
            "First 10 X & y samples:\n",
            "X: tensor([0, 1, 2, 3, 4, 5, 6, 7, 8, 9])\n",
            "y: tensor([ 0.0000,  1.2000,  2.4000,  3.6000,  4.8000,  6.0000,  7.2000,  8.4000,\n",
            "         9.6000, 10.8000])\n"
          ]
        }
      ],
      "source": [
        "# Create the data parameters\n",
        "X = torch.arange(0,100,1).squeeze()\n",
        "y = torch.arange(0,120,1.2).squeeze()\n",
        "\n",
        "# Make X and y using linear regression feature\n",
        "weight = 0.3\n",
        "bias = 0.9\n",
        "\n",
        "print(f\"Number of X samples: {len(X)}\")\n",
        "print(f\"Number of y samples: {len(y)}\")\n",
        "print(f\"First 10 X & y samples:\\nX: {X[:10]}\\ny: {y[:10]}\")"
      ]
    },
    {
      "cell_type": "code",
      "execution_count": 4,
      "metadata": {
        "id": "GlwtT1djkmLw"
      },
      "outputs": [
        {
          "data": {
            "text/plain": [
              "(80, 20, 80, 20)"
            ]
          },
          "execution_count": 4,
          "metadata": {},
          "output_type": "execute_result"
        }
      ],
      "source": [
        "# Split the data into training and testing\n",
        "train_size = int(0.8*(len(X)))\n",
        "\n",
        "x_train, y_train = X[:train_size], y[:train_size]\n",
        "x_test, y_test = X[train_size:], y[train_size:]\n",
        "\n",
        "len(x_train),len(x_test),len(y_train),len(y_test)"
      ]
    },
    {
      "cell_type": "code",
      "execution_count": 5,
      "metadata": {
        "id": "29iQZFNhlYJ-"
      },
      "outputs": [
        {
          "data": {
            "image/png": "[encoded data removed]",
            "text/plain": [
              "<Figure size 800x500 with 1 Axes>"
            ]
          },
          "metadata": {},
          "output_type": "display_data"
        }
      ],
      "source": [
        "# Plot the training and testing data \n",
        "def plot_predictions(train_data = x_train,test_data = x_test,\n",
        "                    train_labels = y_train,test_labels = y_test,\n",
        "                    predictions = None):\n",
        "    \n",
        "    plt.figure(figsize=(8,5))\n",
        "    plt.scatter(train_data,train_labels, c='b', s=3, label = \"Training data\")\n",
        "    plt.scatter(test_data, test_labels, c='r', s =3, label = \"Test data\")\n",
        "\n",
        "    if predictions is not None:\n",
        "        plt.scatter(test_data,predictions, c='g', s=3, label = \"Predictions\")\n",
        "\n",
        "    plt.legend(prop = {'size':10})\n",
        "\n",
        "plot_predictions()"
      ]
    },
    {
      "cell_type": "markdown",
      "metadata": {
        "id": "ImZoe3v8jif8"
      },
      "source": [
        "## 2. Build a PyTorch model by subclassing `nn.Module`. \n",
        "  * Inside should be a randomly initialized `nn.Parameter()` with `requires_grad=True`, one for `weights` and one for `bias`. \n",
        "  * Implement the `forward()` method to compute the linear regression function you used to create the dataset in 1. \n",
        "  * Once you've constructed the model, make an instance of it and check its `state_dict()`.\n",
        "  * **Note:** If you'd like to use `nn.Linear()` instead of `nn.Parameter()` you can."
      ]
    },
    {
      "cell_type": "code",
      "execution_count": 6,
      "metadata": {
        "id": "qzd__Y5rjtB8"
      },
      "outputs": [],
      "source": [
        "# Create PyTorch linear regression model by subclassing nn.Module\n",
        "\n",
        "class LinearRegression(nn.Module):\n",
        "    def __init__(self):\n",
        "        super().__init__()\n",
        "\n",
        "        self.weights = nn.Parameter(torch.randn(1, dtype = torch.float),\n",
        "                                     requires_grad=True)\n",
        "        self.bias = nn.Parameter(torch.randn(1, dtype = torch.float),\n",
        "                                 requires_grad=True)\n",
        "\n",
        "    def forward(self,x) -> torch.Tensor:\n",
        "        return x*self.weights + self.bias"
      ]
    },
    {
      "cell_type": "code",
      "execution_count": 7,
      "metadata": {
        "id": "5LdcDnmOmyQ2"
      },
      "outputs": [],
      "source": [
        "# Instantiate the model and put it to the target device\n",
        "model = LinearRegression()\n",
        "model.to(device)\n",
        "\n",
        "x_train,y_train = x_train.to(device, dtype=torch.float),y_train.to(device, dtype=torch.float)\n",
        "x_test, y_test = x_test.to(device, dtype=torch.float), y_test.to(device, dtype=torch.float)"
      ]
    },
    {
      "cell_type": "code",
      "execution_count": 8,
      "metadata": {},
      "outputs": [
        {
          "data": {
            "text/plain": [
              "<generator object Module.parameters at 0x000001EF79D74200>"
            ]
          },
          "execution_count": 8,
          "metadata": {},
          "output_type": "execute_result"
        }
      ],
      "source": [
        "model.parameters()"
      ]
    },
    {
      "cell_type": "markdown",
      "metadata": {
        "id": "G6nYOrJhjtfu"
      },
      "source": [
        "## 3. Create a loss function and optimizer using `nn.L1Loss()` and `torch.optim.SGD(params, lr)` respectively. \n",
        "  * Set the learning rate of the optimizer to be 0.01 and the parameters to optimize should be the model parameters from the model you created in 2.\n",
        "  * Write a training loop to perform the appropriate training steps for 300 epochs.\n",
        "  * The training loop should test the model on the test dataset every 20 epochs."
      ]
    },
    {
      "cell_type": "code",
      "execution_count": 9,
      "metadata": {
        "id": "ltvoZ-FWjv1j"
      },
      "outputs": [],
      "source": [
        "# Create the loss function and optimizer\n",
        "loss_fn = torch.nn.MSELoss()\n",
        "optimizer = torch.optim.Adam(model.parameters(), lr= 0.001)"
      ]
    },
    {
      "cell_type": "code",
      "execution_count": 10,
      "metadata": {
        "id": "xpE83NvNnkdV"
      },
      "outputs": [
        {
          "name": "stdout",
          "output_type": "stream",
          "text": [
            "Epoch: 0 | Train loss: 2682.208 | Test loss: 14554.503\n",
            "Epoch: 20 | Train loss: 2586.641 | Test loss: 14120.718\n",
            "Epoch: 40 | Train loss: 2493.310 | Test loss: 13695.866\n",
            "Epoch: 60 | Train loss: 2402.436 | Test loss: 13280.922\n",
            "Epoch: 80 | Train loss: 2314.051 | Test loss: 12876.047\n",
            "Epoch: 100 | Train loss: 2228.129 | Test loss: 12481.144\n",
            "Epoch: 120 | Train loss: 2144.628 | Test loss: 12096.062\n",
            "Epoch: 140 | Train loss: 2063.505 | Test loss: 11720.638\n",
            "Epoch: 160 | Train loss: 1984.715 | Test loss: 11354.708\n",
            "Epoch: 180 | Train loss: 1908.216 | Test loss: 10998.112\n",
            "Epoch: 200 | Train loss: 1833.965 | Test loss: 10650.689\n",
            "Epoch: 220 | Train loss: 1761.920 | Test loss: 10312.281\n",
            "Epoch: 240 | Train loss: 1692.038 | Test loss: 9982.730\n",
            "Epoch: 260 | Train loss: 1624.277 | Test loss: 9661.878\n",
            "Epoch: 280 | Train loss: 1558.595 | Test loss: 9349.569\n"
          ]
        }
      ],
      "source": [
        "# Training loop\n",
        "torch.manual_seed(42)\n",
        "# Train model for 300 epochs\n",
        "epochs = 300\n",
        "\n",
        "# Send data to target device\n",
        "\n",
        "for epoch in range(epochs):\n",
        "  ### Training\n",
        "\n",
        "  # Put model in train mode\n",
        "  model.train()\n",
        "\n",
        "  # 1. Forward pass\n",
        "  y_preds = model(x_train)\n",
        "\n",
        "  # 2. Calculate loss\n",
        "  loss = loss_fn(y_preds,x_train)\n",
        "\n",
        "  # 3. Zero gradients\n",
        "  optimizer.zero_grad()\n",
        "\n",
        "  # 4. Backpropagation\n",
        "  loss.backward()\n",
        "\n",
        "  # 5. Step the optimizer\n",
        "  optimizer.step()\n",
        "\n",
        "  ### Perform testing every 20 epochs\n",
        "  if epoch % 20 == 0:\n",
        "\n",
        "    # Put model in evaluation mode and setup inference context \n",
        "    model.eval()\n",
        "    with torch.inference_mode():\n",
        "\n",
        "      # 1. Forward pass\n",
        "      test_preds = model(x_test)\n",
        "      # 2. Calculate test loss\n",
        "      test_loss = loss_fn(test_preds, y_test)\n",
        "      # Print out what's happening\n",
        "    print(f\"Epoch: {epoch} | Train loss: {loss:.3f} | Test loss: {test_loss:.3f}\")"
      ]
    },
    {
      "cell_type": "markdown",
      "metadata": {
        "id": "x4j4TM18jwa7"
      },
      "source": [
        "## 4. Make predictions with the trained model on the test data.\n",
        "  * Visualize these predictions against the original training and testing data (**note:** you may need to make sure the predictions are *not* on the GPU if you want to use non-CUDA-enabled libraries such as matplotlib to plot)."
      ]
    },
    {
      "cell_type": "code",
      "execution_count": 11,
      "metadata": {
        "id": "bbMPK5Qjjyx_"
      },
      "outputs": [
        {
          "name": "stdout",
          "output_type": "stream",
          "text": [
            "tensor([11.3285, 11.4432, 11.5579, 11.6727, 11.7874, 11.9022, 12.0169, 12.1316,\n",
            "        12.2464, 12.3611, 12.4759, 12.5906, 12.7053, 12.8201, 12.9348, 13.0495,\n",
            "        13.1643, 13.2790, 13.3938, 13.5085], device='cuda:0')\n"
          ]
        }
      ],
      "source": [
        "# Make predictions with the model\n",
        "model.eval()\n",
        "with torch.inference_mode():\n",
        "    new_perds = model(x_test)\n",
        "    print(new_perds)"
      ]
    },
    {
      "cell_type": "code",
      "execution_count": 12,
      "metadata": {
        "id": "K3BdmQaDpFo8"
      },
      "outputs": [
        {
          "data": {
            "image/png": "[encoded data removed]",
            "text/plain": [
              "<Figure size 800x500 with 1 Axes>"
            ]
          },
          "metadata": {},
          "output_type": "display_data"
        }
      ],
      "source": [
        "# Plot the predictions (these may need to be on a specific device)\n",
        "plot_predictions(predictions=new_perds.to('cpu'))"
      ]
    },
    {
      "cell_type": "code",
      "execution_count": 13,
      "metadata": {},
      "outputs": [
        {
          "data": {
            "text/plain": [
              "OrderedDict([('weights', tensor([0.1147], device='cuda:0')),\n",
              "             ('bias', tensor([2.1494], device='cuda:0'))])"
            ]
          },
          "execution_count": 13,
          "metadata": {},
          "output_type": "execute_result"
        }
      ],
      "source": [
        "model.state_dict()"
      ]
    },
    {
      "cell_type": "markdown",
      "metadata": {
        "id": "s2OnlMWKjzX8"
      },
      "source": [
        "## 5. Save your trained model's `state_dict()` to file.\n",
        "  * Create a new instance of your model class you made in 2. and load in the `state_dict()` you just saved to it.\n",
        "  * Perform predictions on your test data with the loaded model and confirm they match the original model predictions from 4."
      ]
    },
    {
      "cell_type": "code",
      "execution_count": 16,
      "metadata": {
        "id": "hgxhgD14qr-i"
      },
      "outputs": [],
      "source": [
        "import os \n",
        "# 1. Create models directory \n",
        "PATH = r\"B:\\\\Coding_Stuff\\\\GitHub\\\\ZTM-PyTorch\\\\Models\"\n",
        "# 2. Create model save path \n",
        "model_path = os.path.join(PATH, \"exercise_01\" + \".pth\")\n",
        "# 3. Save the model state dict\n",
        "torch.save(model.state_dict(),model_path)"
      ]
    },
    {
      "cell_type": "code",
      "execution_count": 19,
      "metadata": {
        "id": "P9vTgiLRrJ7T"
      },
      "outputs": [
        {
          "data": {
            "text/plain": [
              "<All keys matched successfully>"
            ]
          },
          "execution_count": 19,
          "metadata": {},
          "output_type": "execute_result"
        }
      ],
      "source": [
        "# Create new instance of model and load saved state dict (make sure to put it on the target device)\n",
        "model_new_instance = LinearRegression()\n",
        "state_dict = torch.load(model_path)\n",
        "model_new_instance.load_state_dict(state_dict)"
      ]
    },
    {
      "cell_type": "code",
      "execution_count": 21,
      "metadata": {
        "id": "8UGX3VebrVtI"
      },
      "outputs": [
        {
          "data": {
            "text/plain": [
              "tensor([11.3285, 11.4432, 11.5579, 11.6727, 11.7874, 11.9022, 12.0169, 12.1316,\n",
              "        12.2464, 12.3611, 12.4759, 12.5906, 12.7053, 12.8201, 12.9348, 13.0495,\n",
              "        13.1643, 13.2790, 13.3938, 13.5085], device='cuda:0',\n",
              "       grad_fn=<AddBackward0>)"
            ]
          },
          "execution_count": 21,
          "metadata": {},
          "output_type": "execute_result"
        }
      ],
      "source": [
        "# Make predictions with loaded model and compare them to the previous\n",
        "model_new_instance.eval()\n",
        "model_new_instance.to(device)\n",
        "model_new_instance(x_test)"
      ]
    }
  ],
  "metadata": {
    "accelerator": "GPU",
    "colab": {
      "authorship_tag": "ABX9TyNYzatJtFkfUqqdiR6rYwVL",
      "collapsed_sections": [],
      "include_colab_link": true,
      "name": "01_pytorch_workflow_exercises.ipynb",
      "provenance": []
    },
    "kernelspec": {
      "display_name": "Python 3",
      "name": "python3"
    },
    "language_info": {
      "codemirror_mode": {
        "name": "ipython",
        "version": 3
      },
      "file_extension": ".py",
      "mimetype": "text/x-python",
      "name": "python",
      "nbconvert_exporter": "python",
      "pygments_lexer": "ipython3",
      "version": "3.10.11"
    }
  },
  "nbformat": 4,
  "nbformat_minor": 0
}
