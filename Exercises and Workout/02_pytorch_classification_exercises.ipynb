{
  "cells": [
    {
      "cell_type": "markdown",
      "metadata": {
        "colab_type": "text",
        "id": "view-in-github"
      },
      "source": [
        "<a href=\"https://colab.research.google.com/github/mrdbourke/pytorch-deep-learning/blob/main/extras/exercises/02_pytorch_classification_exercises.ipynb\" target=\"_parent\"><img src=\"https://colab.research.google.com/assets/colab-badge.svg\" alt=\"Open In Colab\"/></a>"
      ]
    },
    {
      "cell_type": "markdown",
      "metadata": {
        "id": "ZKJFt7YxH8yl"
      },
      "source": [
        "# 02. PyTorch Classification Exercises\n",
        "\n",
        "The following is a template for 02. PyTorch Classification exercises.\n",
        "\n",
        "It's only starter code and it's your job to fill in the blanks.\n",
        "\n",
        "Because of the flexibility of PyTorch, there may be more than one way to answer the question.\n",
        "\n",
        "Don't worry about trying to be *right* just try writing code that suffices the question.\n",
        "\n",
        "## Resources\n",
        "* These exercises are based on [notebook 02 of the learn PyTorch course](https://www.learnpytorch.io/02_pytorch_classification/).\n",
        "* You can see one form of [solutions on GitHub](https://github.com/mrdbourke/pytorch-deep-learning/tree/main/extras/solutions) (but try the exercises below yourself first!)."
      ]
    },
    {
      "cell_type": "code",
      "execution_count": 1,
      "metadata": {
        "id": "CSrUPgapO0tf"
      },
      "outputs": [],
      "source": [
        "# Import torch\n",
        "import torch\n",
        "# Setup device agnostic code\n",
        "device = \"cuda\" if torch.cuda.is_available() else \"cpu\"\n",
        "# Setup random seed\n",
        "RANDOM_SEED = 42"
      ]
    },
    {
      "cell_type": "markdown",
      "metadata": {
        "id": "pH7jIZ2SPFee"
      },
      "source": [
        "## 1. Make a binary classification dataset with Scikit-Learn's [`make_moons()`](https://scikit-learn.org/stable/modules/generated/sklearn.datasets.make_moons.html) function.\n",
        "  * For consistency, the dataset should have 1000 samples and a `random_state=42`.\n",
        "  * Turn the data into PyTorch tensors. \n",
        "  * Split the data into training and test sets using `train_test_split` with 80% training and 20% testing."
      ]
    },
    {
      "cell_type": "code",
      "execution_count": 2,
      "metadata": {
        "id": "5t4VhPV1PX1X"
      },
      "outputs": [],
      "source": [
        "# Create a dataset with Scikit-Learn's make_moons()\n",
        "from sklearn.datasets import make_moons\n",
        "NUM_SAMPLES = 1000\n",
        "RANDOM_SEED = 42\n",
        "X, y = make_moons(n_samples=NUM_SAMPLES, random_state=RANDOM_SEED, \n",
        "                  noise=0.07)"
      ]
    },
    {
      "cell_type": "code",
      "execution_count": 3,
      "metadata": {
        "id": "SUeHZ3-3P9C7"
      },
      "outputs": [
        {
          "data": {
            "text/html": [
              "<div>\n",
              "<style scoped>\n",
              "    .dataframe tbody tr th:only-of-type {\n",
              "        vertical-align: middle;\n",
              "    }\n",
              "\n",
              "    .dataframe tbody tr th {\n",
              "        vertical-align: top;\n",
              "    }\n",
              "\n",
              "    .dataframe thead th {\n",
              "        text-align: right;\n",
              "    }\n",
              "</style>\n",
              "<table border=\"1\" class=\"dataframe\">\n",
              "  <thead>\n",
              "    <tr style=\"text-align: right;\">\n",
              "      <th></th>\n",
              "      <th>X0</th>\n",
              "      <th>X1</th>\n",
              "      <th>y</th>\n",
              "    </tr>\n",
              "  </thead>\n",
              "  <tbody>\n",
              "    <tr>\n",
              "      <th>0</th>\n",
              "      <td>-0.033411</td>\n",
              "      <td>0.421391</td>\n",
              "      <td>1</td>\n",
              "    </tr>\n",
              "    <tr>\n",
              "      <th>1</th>\n",
              "      <td>0.998827</td>\n",
              "      <td>-0.442890</td>\n",
              "      <td>1</td>\n",
              "    </tr>\n",
              "    <tr>\n",
              "      <th>2</th>\n",
              "      <td>0.889592</td>\n",
              "      <td>-0.327843</td>\n",
              "      <td>1</td>\n",
              "    </tr>\n",
              "    <tr>\n",
              "      <th>3</th>\n",
              "      <td>0.341958</td>\n",
              "      <td>-0.417690</td>\n",
              "      <td>1</td>\n",
              "    </tr>\n",
              "    <tr>\n",
              "      <th>4</th>\n",
              "      <td>-0.838531</td>\n",
              "      <td>0.532375</td>\n",
              "      <td>0</td>\n",
              "    </tr>\n",
              "  </tbody>\n",
              "</table>\n",
              "</div>"
            ],
            "text/plain": [
              "         X0        X1  y\n",
              "0 -0.033411  0.421391  1\n",
              "1  0.998827 -0.442890  1\n",
              "2  0.889592 -0.327843  1\n",
              "3  0.341958 -0.417690  1\n",
              "4 -0.838531  0.532375  0"
            ]
          },
          "execution_count": 3,
          "metadata": {},
          "output_type": "execute_result"
        }
      ],
      "source": [
        "# Turn data into a DataFrame\n",
        "import pandas as pd\n",
        "data_df = pd.DataFrame({\"X0\":X[:, 0],\n",
        "             \"X1\":X[:, 1],\n",
        "             \"y\": y})\n",
        "data_df.head()"
      ]
    },
    {
      "cell_type": "code",
      "execution_count": 4,
      "metadata": {
        "id": "owrkPSFvQPFI"
      },
      "outputs": [
        {
          "data": {
            "text/plain": [
              "<matplotlib.collections.PathCollection at 0x15f8dc23c70>"
            ]
          },
          "execution_count": 4,
          "metadata": {},
          "output_type": "execute_result"
        },
        {
          "data": {
            "image/png": "[encoded data removed]",
            "text/plain": [
              "<Figure size 640x480 with 1 Axes>"
            ]
          },
          "metadata": {},
          "output_type": "display_data"
        }
      ],
      "source": [
        "# Visualize the data on a scatter plot\n",
        "import matplotlib.pyplot as plt\n",
        "plt.scatter(X[:,0],X[:,1], \n",
        "            c=y , cmap= plt.cm.RdYlBu)"
      ]
    },
    {
      "cell_type": "code",
      "execution_count": 5,
      "metadata": {},
      "outputs": [],
      "source": [
        "# Split the data into train and test sets (80% train, 20% test)\n",
        "from sklearn.model_selection import train_test_split \n",
        "\n",
        "X = torch.tensor(X, dtype=torch.float32)\n",
        "y = torch.tensor(y, dtype=torch.float32)\n",
        "\n",
        "x_moon_train,x_moon_test,y_moon_train,y_moon_test=train_test_split(\n",
        "    X, y, test_size=0.8, \n",
        "    random_state=RANDOM_SEED, stratify=y)     "
      ]
    },
    {
      "cell_type": "markdown",
      "metadata": {
        "id": "cMIjxZdzQfPz"
      },
      "source": [
        "## 2. Build a model by subclassing `nn.Module` that incorporates non-linear activation functions and is capable of fitting the data you created in 1.\n",
        "  * Feel free to use any combination of PyTorch layers (linear and non-linear) you want."
      ]
    },
    {
      "cell_type": "code",
      "execution_count": 6,
      "metadata": {
        "id": "hwtyvm34Ri6Q"
      },
      "outputs": [
        {
          "data": {
            "text/plain": [
              "MoonModelV0(\n",
              "  (layer1): Linear(in_features=2, out_features=5, bias=True)\n",
              "  (relu1): ReLU()\n",
              "  (layer2): Linear(in_features=5, out_features=5, bias=True)\n",
              "  (relu2): ReLU()\n",
              "  (layer3): Linear(in_features=5, out_features=2, bias=True)\n",
              ")"
            ]
          },
          "execution_count": 6,
          "metadata": {},
          "output_type": "execute_result"
        }
      ],
      "source": [
        "import torch\n",
        "from torch import nn\n",
        "\n",
        "# Inherit from nn.Module to make a model capable of fitting the mooon data\n",
        "class MoonModelV0(nn.Module):\n",
        "    ## Your code here ##\n",
        "    def __init__(self):\n",
        "        super().__init__()\n",
        "        self.layer1 = nn.Linear(in_features=2, out_features=5)\n",
        "        self.relu1 = nn.ReLU()\n",
        "        self.layer2 = nn.Linear(in_features=5, out_features=5)\n",
        "        self.relu2 = nn.ReLU()\n",
        "        self.layer3 = nn.Linear(in_features=5, out_features=2)\n",
        "    def forward(self, x):\n",
        "        ## Your code here ##\n",
        "        return self.layer3(self.relu2(self.layer2(self.relu1(self.layer1(x)))))\n",
        "\n",
        "# Instantiate the model\n",
        "## Your code here ##\n",
        "\n",
        "model = MoonModelV0()\n",
        "model"
      ]
    },
    {
      "cell_type": "code",
      "execution_count": 7,
      "metadata": {},
      "outputs": [
        {
          "data": {
            "text/plain": [
              "OrderedDict([('layer1.weight',\n",
              "              tensor([[ 0.3988,  0.0760],\n",
              "                      [-0.4068, -0.5213],\n",
              "                      [ 0.6704,  0.1249],\n",
              "                      [ 0.2107, -0.4162],\n",
              "                      [ 0.0990, -0.3139]])),\n",
              "             ('layer1.bias',\n",
              "              tensor([ 0.0767, -0.0345,  0.2974,  0.4070, -0.3070])),\n",
              "             ('layer2.weight',\n",
              "              tensor([[-0.3124,  0.0908,  0.4336,  0.2232, -0.2799],\n",
              "                      [-0.1544, -0.1385, -0.3252,  0.3809,  0.4212],\n",
              "                      [-0.3034,  0.1470,  0.0164, -0.1651,  0.0680],\n",
              "                      [ 0.1435,  0.1245, -0.0531,  0.1286, -0.3122],\n",
              "                      [-0.1747,  0.1480, -0.2496, -0.4195,  0.3418]])),\n",
              "             ('layer2.bias',\n",
              "              tensor([ 0.3865,  0.4029, -0.3789, -0.2986,  0.3509])),\n",
              "             ('layer3.weight',\n",
              "              tensor([[ 0.2508,  0.1771, -0.0296, -0.0704,  0.3227],\n",
              "                      [-0.3275, -0.2297,  0.0058,  0.3877, -0.1485]])),\n",
              "             ('layer3.bias', tensor([0.3182, 0.1945]))])"
            ]
          },
          "execution_count": 7,
          "metadata": {},
          "output_type": "execute_result"
        }
      ],
      "source": [
        "model.state_dict()"
      ]
    },
    {
      "cell_type": "markdown",
      "metadata": {
        "id": "DSj97RwyVeFE"
      },
      "source": [
        "## 3. Setup a binary classification compatible loss function and optimizer to use when training the model built in 2."
      ]
    },
    {
      "cell_type": "code",
      "execution_count": 8,
      "metadata": {
        "id": "whSGw5qgVvxU"
      },
      "outputs": [],
      "source": [
        "# Setup loss function\n",
        "loss_fn = nn.BCELoss()\n",
        "# Setup optimizer to optimize model's parameters\n",
        "optimizer = torch.optim.Adam(lr=0.001, params=model.parameters())\n",
        "\n",
        "x_moon_test.requires_grad = True\n",
        "x_moon_train.requires_grad = True\n",
        "y_moon_test.requires_grad = True\n",
        "y_moon_train.requires_grad = True"
      ]
    },
    {
      "cell_type": "markdown",
      "metadata": {
        "id": "nvk4PfNTWUAt"
      },
      "source": [
        "## 4. Create a training and testing loop to fit the model you created in 2 to the data you created in 1.\n",
        "  * Do a forward pass of the model to see what's coming out in the form of logits, prediction probabilities and labels.\n",
        "  * To measure model accuray, you can create your own accuracy function or use the accuracy function in [TorchMetrics](https://torchmetrics.readthedocs.io/en/latest/).\n",
        "  * Train the model for long enough for it to reach over 96% accuracy.\n",
        "  * The training loop should output progress every 10 epochs of the model's training and test set loss and accuracy."
      ]
    },
    {
      "cell_type": "code",
      "execution_count": 9,
      "metadata": {
        "colab": {
          "base_uri": "https://localhost:8080/"
        },
        "id": "AgnFdlamd2-D",
        "outputId": "627d8c33-071e-4925-f18b-5d5ba6126729"
      },
      "outputs": [
        {
          "name": "stdout",
          "output_type": "stream",
          "text": [
            "Pred probs:\n",
            "tensor([[ 0.5121, -0.0552],\n",
            "        [ 0.5567, -0.1057],\n",
            "        [ 0.5464, -0.0559],\n",
            "        [ 0.5985, -0.0780],\n",
            "        [ 0.5855, -0.1540]], grad_fn=<SliceBackward0>)\n",
            "Pred labels:\n",
            "tensor([0, 0, 0, 0, 0])\n"
          ]
        }
      ],
      "source": [
        "# What's coming out of our model?\n",
        "import warnings\n",
        "warnings.filterwarnings('ignore')\n",
        "# Prediction probabilities\n",
        "print(\"Pred probs:\")\n",
        "## Your code here ##\n",
        "print(model(x_moon_train)[:5])\n",
        "# Prediction labels\n",
        "print(\"Pred labels:\")\n",
        "## Your code here ##\n",
        "print(torch.argmax(model(x_moon_train), dim=1)[:5])"
      ]
    },
    {
      "cell_type": "code",
      "execution_count": 10,
      "metadata": {
        "id": "rUSDNHB4euoJ"
      },
      "outputs": [
        {
          "data": {
            "text/plain": [
              "BCELoss()"
            ]
          },
          "execution_count": 10,
          "metadata": {},
          "output_type": "execute_result"
        }
      ],
      "source": [
        "# Let's calculuate the accuracy using accuracy from TorchMetrics\n",
        "from torchmetrics import Accuracy\n",
        "\n",
        "## TODO: Uncomment this code to use the Accuracy function\n",
        "acc_fn = Accuracy(task=\"multiclass\", num_classes=2).to(device) # send accuracy function to device\n",
        "acc_fn\n",
        "\n",
        "acc_fn.to(device)\n",
        "model.to(device)\n",
        "loss_fn.to(device)"
      ]
    },
    {
      "cell_type": "code",
      "execution_count": 11,
      "metadata": {
        "id": "SHBY3h7XXnxt"
      },
      "outputs": [
        {
          "name": "stdout",
          "output_type": "stream",
          "text": [
            "0  Training acc : tensor(0.5000, device='cuda:0')  Testing acc : tensor(0.5000, device='cuda:0')\n",
            "100  Training acc : tensor(0.5000, device='cuda:0')  Testing acc : tensor(0.5000, device='cuda:0')\n",
            "200  Training acc : tensor(0.5000, device='cuda:0')  Testing acc : tensor(0.5000, device='cuda:0')\n",
            "300  Training acc : tensor(0.5000, device='cuda:0')  Testing acc : tensor(0.5000, device='cuda:0')\n",
            "400  Training acc : tensor(0.5000, device='cuda:0')  Testing acc : tensor(0.5000, device='cuda:0')\n",
            "500  Training acc : tensor(0.5000, device='cuda:0')  Testing acc : tensor(0.5000, device='cuda:0')\n",
            "600  Training acc : tensor(0.5000, device='cuda:0')  Testing acc : tensor(0.5000, device='cuda:0')\n",
            "700  Training acc : tensor(0.5000, device='cuda:0')  Testing acc : tensor(0.5000, device='cuda:0')\n",
            "800  Training acc : tensor(0.5000, device='cuda:0')  Testing acc : tensor(0.5000, device='cuda:0')\n",
            "900  Training acc : tensor(0.5000, device='cuda:0')  Testing acc : tensor(0.5000, device='cuda:0')\n"
          ]
        }
      ],
      "source": [
        "## TODO: Uncomment this to set the seed\n",
        "torch.manual_seed(RANDOM_SEED)\n",
        "\n",
        "# Setup epochs\n",
        "epochs = 1000\n",
        "\n",
        "# Send data to the device\n",
        "x_moon_train,x_moon_test = x_moon_train.to(device),x_moon_test.to(device)\n",
        "y_moon_train,y_moon_test = y_moon_train.to(device),y_moon_test.to(device)\n",
        "\n",
        "# Loop through the data\n",
        "for epoch in range(epochs):\n",
        "  ### Training\n",
        "  model.train()\n",
        "\n",
        "  # 1. Forward pass (logits output)\n",
        "  y_probs = model(x_moon_train)\n",
        "  \n",
        "  # Turn prediction probabilities into prediction labels\n",
        "  y_pred = torch.argmax(y_probs, dim=1)\n",
        "  y_pred = torch.tensor(y_pred, dtype= torch.float32)\n",
        "  \n",
        "  # 2. Calculaute the loss\n",
        "  loss = loss_fn(y_pred, y_moon_train) # loss = compare model raw outputs to desired model outputs\n",
        "\n",
        "  # Calculate the accuracy\n",
        "  acc = acc_fn(y_pred, y_moon_train.int()) # the accuracy function needs to compare pred labels (not logits) with actual labels\n",
        "\n",
        "  # 3. Zero the gradients\n",
        "  optimizer.zero_grad()\n",
        "\n",
        "  # 4. Loss backward (perform backpropagation)\n",
        "  loss.backward()\n",
        "  \n",
        "  # 5. Step the optimizer \n",
        "  optimizer.step()\n",
        "  \n",
        "\n",
        "  ### Testing\n",
        "  model.eval() \n",
        "  with torch.inference_mode():\n",
        "    # 1. Forward pass (to get the logits)\n",
        "    y_test_logits = model(x_moon_test)\n",
        "    # Turn the test logits into prediction labels\n",
        "    y_test_preds = torch.argmax(y_test_logits, dim=1)\n",
        "    y_test_preds = torch.tensor(y_test_preds, dtype= torch.float32)\n",
        "\n",
        "    # 2. Caculate the test loss/acc\n",
        "    test_loss = loss_fn(y_test_preds, y_moon_test)\n",
        "    acc_test = acc_fn(y_test_preds, y_moon_test)\n",
        "\n",
        "  # Print out what's happening every 100 epochs\n",
        "  if epoch % 100 == 0:\n",
        "    print(epoch,\" Training acc :\", acc, \" Testing acc :\", acc_test)\n",
        "    "
      ]
    }
  ],
  "metadata": {
    "accelerator": "GPU",
    "colab": {
      "authorship_tag": "ABX9TyNloicnciRwCXd2bJo6F2iS",
      "collapsed_sections": [],
      "include_colab_link": true,
      "name": "02_pytorch_classification_exercises.ipynb",
      "provenance": []
    },
    "kernelspec": {
      "display_name": "Python 3",
      "name": "python3"
    },
    "language_info": {
      "codemirror_mode": {
        "name": "ipython",
        "version": 3
      },
      "file_extension": ".py",
      "mimetype": "text/x-python",
      "name": "python",
      "nbconvert_exporter": "python",
      "pygments_lexer": "ipython3",
      "version": "3.10.10"
    }
  },
  "nbformat": 4,
  "nbformat_minor": 0
}
