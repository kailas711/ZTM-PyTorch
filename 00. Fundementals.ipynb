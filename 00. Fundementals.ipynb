{
 "cells": [
  {
   "attachments": {},
   "cell_type": "markdown",
   "metadata": {},
   "source": [
    "# 00. PyTorch Fundamentals\n",
    "\n",
    "**Fundementals**"
   ]
  },
  {
   "cell_type": "code",
   "execution_count": 1,
   "metadata": {},
   "outputs": [
    {
     "data": {
      "text/plain": [
       "'2.0.0+cu118'"
      ]
     },
     "execution_count": 1,
     "metadata": {},
     "output_type": "execute_result"
    }
   ],
   "source": [
    "import torch \n",
    "torch.__version__"
   ]
  },
  {
   "attachments": {},
   "cell_type": "markdown",
   "metadata": {},
   "source": [
    "A scalar is a single number and in tensor-speak it's a zero dimension tensor."
   ]
  },
  {
   "cell_type": "code",
   "execution_count": 2,
   "metadata": {},
   "outputs": [
    {
     "name": "stdout",
     "output_type": "stream",
     "text": [
      "tensor(7)\n",
      "dimension  0\n",
      "retive the number from scalar   7\n"
     ]
    }
   ],
   "source": [
    "scalar = torch.tensor(7)\n",
    "print(scalar)\n",
    "print(\"dimension \" , scalar.ndim)\n",
    "print(\"retive the number from scalar  \", scalar.item())"
   ]
  },
  {
   "attachments": {},
   "cell_type": "markdown",
   "metadata": {},
   "source": [
    "A vector is a single dimension tensor but can contain many numbers. `shape` attribute. The shape tells you how the elements inside them are arranged."
   ]
  },
  {
   "cell_type": "code",
   "execution_count": 3,
   "metadata": {},
   "outputs": [
    {
     "name": "stdout",
     "output_type": "stream",
     "text": [
      "tensor([4, 5, 9])\n",
      "dimension  1\n",
      "Shape  torch.Size([3])\n"
     ]
    }
   ],
   "source": [
    "vector = torch.tensor([4,5,9])\n",
    "print(vector)\n",
    "print(\"dimension \", vector.ndim)\n",
    "print(\"Shape \", vector.shape)"
   ]
  },
  {
   "cell_type": "code",
   "execution_count": 4,
   "metadata": {},
   "outputs": [
    {
     "name": "stdout",
     "output_type": "stream",
     "text": [
      "tensor([[ 7,  8],\n",
      "        [ 9, 10]])\n",
      "dimension 2\n",
      "size torch.Size([2, 2])\n"
     ]
    }
   ],
   "source": [
    "matrix = torch.tensor([[7,8],\n",
    "                      [9,10]])\n",
    "print(matrix)\n",
    "print(\"dimension\" , matrix.ndim)\n",
    "print(\"size\", matrix.size())"
   ]
  },
  {
   "cell_type": "code",
   "execution_count": 5,
   "metadata": {},
   "outputs": [
    {
     "name": "stdout",
     "output_type": "stream",
     "text": [
      "tensor([[[1, 3, 4],\n",
      "         [2, 4, 7],\n",
      "         [7, 8, 0]]])\n",
      "dimension  3\n",
      "size  torch.Size([1, 3, 3])\n"
     ]
    }
   ],
   "source": [
    "tensor = torch.tensor([[[1,3,4],\n",
    "                       [2,4,7],\n",
    "                       [7,8,0]]])\n",
    "print(tensor)\n",
    "print(\"dimension \",tensor.ndim)\n",
    "print(\"size \",tensor.size())"
   ]
  },
  {
   "attachments": {},
   "cell_type": "markdown",
   "metadata": {},
   "source": [
    "**Random Tensors**"
   ]
  },
  {
   "cell_type": "code",
   "execution_count": 6,
   "metadata": {},
   "outputs": [
    {
     "name": "stdout",
     "output_type": "stream",
     "text": [
      "tensor([[0.9537, 0.7658, 0.3038],\n",
      "        [0.4950, 0.5462, 0.1671]])\n",
      "torch.Size([2, 3])\n",
      "torch.float32\n"
     ]
    }
   ],
   "source": [
    "random_tensor = torch.rand(size = (2,3))\n",
    "print(random_tensor)\n",
    "print(random_tensor.shape)\n",
    "print(random_tensor.dtype)"
   ]
  },
  {
   "cell_type": "code",
   "execution_count": 7,
   "metadata": {},
   "outputs": [
    {
     "name": "stdout",
     "output_type": "stream",
     "text": [
      "torch.Size([2, 244, 244])\n",
      "3\n",
      "tensor([[[0.1760, 0.5437, 0.7473,  ..., 0.2352, 0.5637, 0.9098],\n",
      "         [0.3370, 0.4167, 0.4967,  ..., 0.0083, 0.9173, 0.3776],\n",
      "         [0.1266, 0.3773, 0.5930,  ..., 0.6932, 0.3878, 0.9103],\n",
      "         ...,\n",
      "         [0.3275, 0.8399, 0.3675,  ..., 0.8251, 0.8614, 0.3554],\n",
      "         [0.3588, 0.1509, 0.6361,  ..., 0.7532, 0.9065, 0.3539],\n",
      "         [0.8113, 0.5896, 0.0919,  ..., 0.1364, 0.8684, 0.0116]],\n",
      "\n",
      "        [[0.3667, 0.9064, 0.9889,  ..., 0.5578, 0.4661, 0.5829],\n",
      "         [0.2469, 0.2824, 0.4439,  ..., 0.3448, 0.0426, 0.9426],\n",
      "         [0.7116, 0.9750, 0.5618,  ..., 0.1856, 0.0148, 0.7004],\n",
      "         ...,\n",
      "         [0.8502, 0.0714, 0.2559,  ..., 0.9980, 0.0191, 0.8840],\n",
      "         [0.2025, 0.2585, 0.8336,  ..., 0.5155, 0.1225, 0.0117],\n",
      "         [0.3092, 0.2550, 0.3619,  ..., 0.1415, 0.3639, 0.8458]]])\n"
     ]
    }
   ],
   "source": [
    "img_size_tensor = torch.rand(size = (2,244,244))\n",
    "print(img_size_tensor.size())\n",
    "print(img_size_tensor.ndim)\n",
    "print(img_size_tensor)"
   ]
  },
  {
   "attachments": {},
   "cell_type": "markdown",
   "metadata": {},
   "source": [
    "**Zeros and ones**"
   ]
  },
  {
   "cell_type": "code",
   "execution_count": 8,
   "metadata": {},
   "outputs": [
    {
     "name": "stdout",
     "output_type": "stream",
     "text": [
      "tensor([[0., 0., 0.],\n",
      "        [0., 0., 0.],\n",
      "        [0., 0., 0.]])\n",
      "torch.float32\n",
      "tensor([[1., 1., 1.],\n",
      "        [1., 1., 1.],\n",
      "        [1., 1., 1.]])\n",
      "torch.float32\n"
     ]
    }
   ],
   "source": [
    "zeros = torch.zeros(size = (3,3))\n",
    "print(zeros)\n",
    "print(zeros.dtype)\n",
    "ones = torch.ones(size = (3,3))\n",
    "print(ones)\n",
    "print(ones.dtype)"
   ]
  },
  {
   "cell_type": "code",
   "execution_count": 9,
   "metadata": {},
   "outputs": [
    {
     "data": {
      "text/plain": [
       "tensor([ 0, 10, 20, 30, 40, 50, 60, 70, 80, 90])"
      ]
     },
     "execution_count": 9,
     "metadata": {},
     "output_type": "execute_result"
    }
   ],
   "source": [
    "zero_ten = torch.arange(0,100,10)\n",
    "zero_ten"
   ]
  },
  {
   "attachments": {},
   "cell_type": "markdown",
   "metadata": {},
   "source": [
    "Sometimes if you wanna make tensors of same size we can use `torch.ones_like(input)` and `torch.zero_like(input)`"
   ]
  },
  {
   "cell_type": "code",
   "execution_count": 10,
   "metadata": {},
   "outputs": [
    {
     "name": "stdout",
     "output_type": "stream",
     "text": [
      "tensor([1, 1, 1, 1, 1, 1, 1, 1, 1, 1])\n",
      "tensor([0, 0, 0, 0, 0, 0, 0, 0, 0, 0])\n"
     ]
    }
   ],
   "source": [
    "print(torch.ones_like(zero_ten))\n",
    "print(torch.zeros_like(zero_ten))"
   ]
  },
  {
   "attachments": {},
   "cell_type": "markdown",
   "metadata": {},
   "source": [
    "**Tensor datatypes**"
   ]
  },
  {
   "cell_type": "code",
   "execution_count": 11,
   "metadata": {},
   "outputs": [
    {
     "data": {
      "text/plain": [
       "(tensor([1., 2., 3., 4., 5.]),\n",
       " torch.float32,\n",
       " torch.Size([5]),\n",
       " device(type='cpu'))"
      ]
     },
     "execution_count": 11,
     "metadata": {},
     "output_type": "execute_result"
    }
   ],
   "source": [
    "float_tensor = torch.tensor([1.0,2.0,3,4,5],\n",
    "                            device = None,\n",
    "                            requires_grad = False,\n",
    "                            dtype = None)\n",
    "\n",
    "float_tensor , float_tensor.dtype, float_tensor.size(), float_tensor.device"
   ]
  },
  {
   "cell_type": "code",
   "execution_count": 12,
   "metadata": {},
   "outputs": [
    {
     "data": {
      "text/plain": [
       "tensor([1., 9., 9.], dtype=torch.float16)"
      ]
     },
     "execution_count": 12,
     "metadata": {},
     "output_type": "execute_result"
    }
   ],
   "source": [
    "float16_tensor = torch.tensor([1.0,9.0,9.0],\n",
    "                              dtype = torch.float16)\n",
    "float16_tensor"
   ]
  },
  {
   "attachments": {},
   "cell_type": "markdown",
   "metadata": {},
   "source": [
    "**Tensor manipulation**\n",
    "\n",
    "- Addition\n",
    "- Substraction\n",
    "- Multiplication (element-wise)\n",
    "- Division\n",
    "- Matrix multiplication\n",
    "\n",
    "Note - values inside a `tensor` does not change unless reassigned \n"
   ]
  },
  {
   "cell_type": "code",
   "execution_count": 13,
   "metadata": {},
   "outputs": [
    {
     "name": "stdout",
     "output_type": "stream",
     "text": [
      "tensor([10, 20, 40, 50]) tensor([-9, -8, -6, -5]) tensor([12, 24, 48, 60])\n",
      "tensor([12, 24, 48, 60]) tensor([13, 14, 16, 17]) tensor([-9, -8, -6, -5])\n"
     ]
    }
   ],
   "source": [
    "tensor = torch.tensor([1,2,4,5])\n",
    "print(tensor * 10, tensor - 10, tensor * 12)\n",
    "print(tensor.mul(12),tensor.add(12),tensor.sub(10))"
   ]
  },
  {
   "attachments": {},
   "cell_type": "markdown",
   "metadata": {},
   "source": [
    "**Matrix Multiplication**\n",
    "\n",
    "- The inner dimensions must match:\n",
    "\n",
    "(3, 2) @ (3, 2) won't work\n",
    "\n",
    "(2, 3) @ (3, 2) will work\n",
    "\n",
    "(3, 2) @ (2, 3) will work\n",
    "\n",
    "- The resulting matrix has the shape of the outer dimensions:\n",
    "\n",
    "(2, 3) @ (3, 2) -> (2, 2)\n",
    "\n",
    "(3, 2) @ (2, 3) -> (3, 3)"
   ]
  },
  {
   "cell_type": "code",
   "execution_count": 14,
   "metadata": {},
   "outputs": [
    {
     "name": "stdout",
     "output_type": "stream",
     "text": [
      "torch.Size([])\n",
      "torch.Size([2])\n",
      "torch.Size([10, 3])\n",
      "torch.Size([10, 3, 5])\n",
      "torch.Size([10, 3, 5])\n"
     ]
    }
   ],
   "source": [
    "# vector x vector \n",
    "tensor_1 = torch.randn(3)\n",
    "tensor_2 = torch.randn(3)\n",
    "print(torch.matmul(tensor_1,tensor_2).size())\n",
    "\n",
    "# vector x matrix \n",
    "tensor_1 = torch.randn(3)\n",
    "tensor_2 = torch.randn(3,2)\n",
    "print((tensor_1 @ tensor_2).size())\n",
    "\n",
    "# batched matrix x broadcasted vector \n",
    "tensor_1 = torch.randn(10,3,4)\n",
    "tensor_2 = torch.randn(4)\n",
    "print((tensor_1 @ tensor_2).size())\n",
    "\n",
    "# batched matrix x batched matirx\n",
    "tensor_1 = torch.randn(10 , 3, 4)\n",
    "tensor_2 = torch.randn(10, 4 , 5)\n",
    "print((tensor_1 @ tensor_2).size())\n",
    "\n",
    "# batched matrix x broadcasted matrix\n",
    "tensor_1 = torch.randn(10 , 3, 4)\n",
    "tensor_2 = torch.randn(4,5)\n",
    "print((tensor_1 @ tensor_2).size())\n"
   ]
  },
  {
   "cell_type": "code",
   "execution_count": 15,
   "metadata": {},
   "outputs": [
    {
     "data": {
      "text/plain": [
       "tensor([[38., 18., 13.],\n",
       "        [53., 27., 18.],\n",
       "        [83., 45., 28.]])"
      ]
     },
     "execution_count": 15,
     "metadata": {},
     "output_type": "execute_result"
    }
   ],
   "source": [
    "A = torch.tensor([[2.,3],\n",
    "                  [3,4],\n",
    "                  [5,6]])\n",
    "\n",
    "B = torch.tensor([[7.,8],\n",
    "                  [9,0],\n",
    "                  [2,3]])\n",
    "\n",
    "torch.mm(A,B.T)"
   ]
  },
  {
   "attachments": {},
   "cell_type": "markdown",
   "metadata": {},
   "source": [
    "**torch.nn.Linear()**"
   ]
  },
  {
   "cell_type": "code",
   "execution_count": 16,
   "metadata": {},
   "outputs": [
    {
     "name": "stdout",
     "output_type": "stream",
     "text": [
      "Output shape is  tensor([[-0.6919, -0.7496, -0.4094,  0.8194, -1.7164, -1.4301],\n",
      "        [-1.0920, -1.0615, -0.3137,  1.1218, -2.1159, -1.7474],\n",
      "        [-1.8921, -1.6852, -0.1224,  1.7268, -2.9149, -2.3821]],\n",
      "       grad_fn=<AddmmBackward0>)\n",
      "Shape is  torch.Size([3, 6])\n"
     ]
    }
   ],
   "source": [
    "torch.manual_seed(23)\n",
    "\n",
    "linear = torch.nn.Linear(in_features=2,\n",
    "                         out_features = 6)\n",
    "\n",
    "print(\"Output shape is \",linear(A))\n",
    "print(\"Shape is \", linear(A).size())"
   ]
  },
  {
   "attachments": {},
   "cell_type": "markdown",
   "metadata": {},
   "source": [
    "**Finding the min, max, mean, sum, etc (aggregation)**"
   ]
  },
  {
   "cell_type": "code",
   "execution_count": 17,
   "metadata": {},
   "outputs": [
    {
     "name": "stdout",
     "output_type": "stream",
     "text": [
      "tensor(0)\n",
      "tensor(90)\n",
      "tensor(45.)\n",
      "tensor(450)\n"
     ]
    }
   ],
   "source": [
    "x = torch.arange(0,100,10)\n",
    "print(x.min())\n",
    "print(x.max())\n",
    "print(x.type(torch.float32).mean())\n",
    "print(x.sum())"
   ]
  },
  {
   "attachments": {},
   "cell_type": "markdown",
   "metadata": {},
   "source": [
    "You can also find the index of a tensor where the max or minimum occurs with `torch.argmax()` and `torch.argmin()` respectively."
   ]
  },
  {
   "cell_type": "code",
   "execution_count": 18,
   "metadata": {},
   "outputs": [
    {
     "name": "stdout",
     "output_type": "stream",
     "text": [
      "Max at : tensor(8)\n",
      "Min at : tensor(0)\n"
     ]
    }
   ],
   "source": [
    "tensor = torch.arange(10,100,10)\n",
    "print(\"Max at :\", tensor.argmax())\n",
    "print(\"Min at :\",tensor.argmin())"
   ]
  },
  {
   "attachments": {},
   "cell_type": "markdown",
   "metadata": {},
   "source": [
    "**Change tensor datatype**"
   ]
  },
  {
   "cell_type": "code",
   "execution_count": 19,
   "metadata": {},
   "outputs": [
    {
     "name": "stdout",
     "output_type": "stream",
     "text": [
      "torch.int64\n"
     ]
    },
    {
     "data": {
      "text/plain": [
       "tensor([10., 20., 30., 40., 50., 60., 70., 80., 90.])"
      ]
     },
     "execution_count": 19,
     "metadata": {},
     "output_type": "execute_result"
    }
   ],
   "source": [
    "tensor = torch.arange(10,100,10)\n",
    "print(tensor.dtype)\n",
    "\n",
    "tensor.type(torch.float32)"
   ]
  },
  {
   "attachments": {},
   "cell_type": "markdown",
   "metadata": {},
   "source": [
    "**Reshaping, stacking, squeezing and unsqueezing**\n",
    "\n",
    "* `torch.reshape(input, shape)` --- Reshapes a tensor according to the shape specified \n",
    "\n",
    "* `torch.Tensor.view(shape)` --- Reshape and present the view of tensor , it shares data with the original tensor so any change in the view changes og tensor \n",
    "\n",
    "* `torch.Tensor.stack([x,x,x],dim=0)`--- Stacking tensor on top of other , dim=0 means through row-wise\n",
    "\n",
    "* `torch.Tensor.squeeze()` -- remove one dim\n",
    "\n",
    "* ` torch.Tensor.permute(2,0,1)` -- shifts axis by 0->2 , 1->0 , 2->1 of og tensor"
   ]
  },
  {
   "cell_type": "code",
   "execution_count": 20,
   "metadata": {},
   "outputs": [
    {
     "name": "stdout",
     "output_type": "stream",
     "text": [
      "torch.Size([6])\n",
      "tensor([[1, 2, 3, 4, 5, 6]])\n",
      "tensor([[1, 2, 3],\n",
      "        [4, 5, 6]])\n",
      "tensor([[1, 2, 3, 4, 5, 6],\n",
      "        [1, 2, 3, 4, 5, 6],\n",
      "        [1, 2, 3, 4, 5, 6]])\n",
      "Before squeezing:  torch.Size([1, 6])\n",
      "After squeezing : torch.Size([6])\n"
     ]
    }
   ],
   "source": [
    "tensor = torch.tensor([1,2,3,4,5,6])\n",
    "print(tensor.shape)\n",
    "\n",
    "# adding extra dim \n",
    "print(tensor.reshape(1,6))\n",
    "\n",
    "#change view \n",
    "print(tensor.view(2,3))\n",
    "\n",
    "# stack new tensor on top of other\n",
    "stacked = torch.stack([tensor,tensor,tensor], dim=0)\n",
    "print(stacked)\n",
    "\n",
    "# removing a dim from tensor\n",
    "tensor_reshaped = tensor.reshape(1,6)\n",
    "print(\"Before squeezing: \",tensor_reshaped.shape)\n",
    "print(\"After squeezing :\",tensor_reshaped.squeeze().shape)\n"
   ]
  },
  {
   "cell_type": "code",
   "execution_count": 21,
   "metadata": {},
   "outputs": [
    {
     "name": "stdout",
     "output_type": "stream",
     "text": [
      "Original shape torch.Size([224, 224, 3])\n",
      "permute torch.Size([3, 224, 224])\n"
     ]
    }
   ],
   "source": [
    "# permute tensor \n",
    "original = torch.randn(size = (224,224,3))\n",
    "permute = original.permute(2,0,1) # shifts axis by 0->2 , 1->0 , 2->1\n",
    "print(\"Original shape\", original.shape)\n",
    "print(\"permute\",permute.shape)"
   ]
  },
  {
   "attachments": {},
   "cell_type": "markdown",
   "metadata": {},
   "source": [
    "**Indexing(slicing data from tensor)**"
   ]
  },
  {
   "cell_type": "code",
   "execution_count": 22,
   "metadata": {},
   "outputs": [
    {
     "name": "stdout",
     "output_type": "stream",
     "text": [
      "tensor([[2, 5, 8]])\n",
      "tensor([5])\n"
     ]
    }
   ],
   "source": [
    "import torch\n",
    "x = torch.arange(1,10).reshape(1,3,3)\n",
    "print(x[:,:,1])\n",
    "print(x[:,1,1])"
   ]
  },
  {
   "attachments": {},
   "cell_type": "markdown",
   "metadata": {},
   "source": [
    "**PyTorch tensors & NumPy**"
   ]
  },
  {
   "cell_type": "code",
   "execution_count": 23,
   "metadata": {},
   "outputs": [
    {
     "name": "stdout",
     "output_type": "stream",
     "text": [
      "tensor([1, 2, 4, 5, 5, 7], dtype=torch.int32) [1 2 4 5 5 7]\n"
     ]
    }
   ],
   "source": [
    "import torch\n",
    "import numpy\n",
    "tensor = numpy.array([1,2,4,5,5,7])\n",
    "trail = torch.from_numpy(tensor)\n",
    "array = trail.numpy()\n",
    "print(trail,array)"
   ]
  },
  {
   "cell_type": "code",
   "execution_count": 24,
   "metadata": {},
   "outputs": [
    {
     "data": {
      "text/plain": [
       "(tensor([2, 3, 5, 6, 6, 8], dtype=torch.int32), array([1, 2, 4, 5, 5, 7]))"
      ]
     },
     "execution_count": 24,
     "metadata": {},
     "output_type": "execute_result"
    }
   ],
   "source": [
    "#  if you change the original tensor, the new numpy_tensor stays the same.\n",
    "trail+1,array"
   ]
  },
  {
   "attachments": {},
   "cell_type": "markdown",
   "metadata": {},
   "source": [
    "**reproducibility**"
   ]
  },
  {
   "cell_type": "code",
   "execution_count": 25,
   "metadata": {},
   "outputs": [
    {
     "name": "stdout",
     "output_type": "stream",
     "text": [
      "tensor([[0.8823, 0.9150, 0.3829, 0.9593],\n",
      "        [0.3904, 0.6009, 0.2566, 0.7936],\n",
      "        [0.9408, 0.1332, 0.9346, 0.5936]])\n",
      "tensor([[0.8694, 0.5677],\n",
      "        [0.7411, 0.4294],\n",
      "        [0.8854, 0.5739]])\n"
     ]
    }
   ],
   "source": [
    "import torch\n",
    "import random \n",
    "\n",
    "RANDOM_SEED = 42\n",
    "torch.manual_seed(RANDOM_SEED)\n",
    "random_tensor = torch.rand(3,4)\n",
    "print(random_tensor)\n",
    "\n",
    "random_tensor_2 = torch .rand(3,2)\n",
    "print(random_tensor_2)"
   ]
  },
  {
   "cell_type": "code",
   "execution_count": 26,
   "metadata": {},
   "outputs": [
    {
     "data": {
      "text/plain": [
       "(True,\n",
       " tensor([[0.8694, 0.5677],\n",
       "         [0.7411, 0.4294],\n",
       "         [0.8854, 0.5739]], device='cuda:0'),\n",
       " tensor([[0.8694, 0.5677],\n",
       "         [0.7411, 0.4294],\n",
       "         [0.8854, 0.5739]]))"
      ]
     },
     "execution_count": 26,
     "metadata": {},
     "output_type": "execute_result"
    }
   ],
   "source": [
    "torch.cuda.is_available(),random_tensor_2.to('cuda'),random_tensor_2.cpu()"
   ]
  },
  {
   "attachments": {},
   "cell_type": "markdown",
   "metadata": {},
   "source": [
    "# 00. PyTorch Fundamentals Exercises"
   ]
  },
  {
   "cell_type": "code",
   "execution_count": 27,
   "metadata": {},
   "outputs": [],
   "source": [
    "# run CUDA operations.\n",
    "\n",
    "cuda = torch.device('cuda')\n",
    "cuda0 = torch.device('cuda:0')\n",
    "cuda1 = torch.device('cuda:1') # Indexing the GPUs"
   ]
  },
  {
   "cell_type": "code",
   "execution_count": 28,
   "metadata": {},
   "outputs": [
    {
     "data": {
      "text/plain": [
       "tensor([ 2., 11.], device='cuda:0')"
      ]
     },
     "execution_count": 28,
     "metadata": {},
     "output_type": "execute_result"
    }
   ],
   "source": [
    "x = torch.tensor([1.,2.], device=cuda)# device = cuda0 gives error\n",
    "y = torch.tensor([1.,9.], device=cuda)# only one GPU is available   \n",
    "\n",
    "x + y\n"
   ]
  },
  {
   "cell_type": "code",
   "execution_count": 29,
   "metadata": {},
   "outputs": [
    {
     "name": "stdout",
     "output_type": "stream",
     "text": [
      "tensor([[0.4963, 0.7682, 0.0885, 0.1320, 0.3074, 0.6341, 0.4901],\n",
      "        [0.8964, 0.4556, 0.6323, 0.3489, 0.4017, 0.0223, 0.1689],\n",
      "        [0.2939, 0.5185, 0.6977, 0.8000, 0.1610, 0.2823, 0.6816],\n",
      "        [0.9152, 0.3971, 0.8742, 0.4194, 0.5529, 0.9527, 0.0362],\n",
      "        [0.1852, 0.3734, 0.3051, 0.9320, 0.1759, 0.2698, 0.1507],\n",
      "        [0.0317, 0.2081, 0.9298, 0.7231, 0.7423, 0.5263, 0.2437],\n",
      "        [0.5846, 0.0332, 0.1387, 0.2422, 0.8155, 0.7932, 0.2783]])\n"
     ]
    }
   ],
   "source": [
    "# 2. Create a random tensor with shape (7, 7).\n",
    "torch.manual_seed(0)\n",
    "randon = torch.rand(7,7)\n",
    "print(randon)\n"
   ]
  },
  {
   "cell_type": "code",
   "execution_count": 30,
   "metadata": {},
   "outputs": [
    {
     "name": "stdout",
     "output_type": "stream",
     "text": [
      "tensor([[ 0.7647,  1.1838,  0.1363,  0.2035,  0.4737,  0.9771,  0.7552],\n",
      "        [-0.2630, -0.1337, -0.1855, -0.1024, -0.1179, -0.0066, -0.0495],\n",
      "        [-0.6403, -1.1297, -1.5201, -1.7431, -0.3508, -0.6150, -1.4851],\n",
      "        [ 0.5202,  0.2257,  0.4969,  0.2384,  0.3143,  0.5416,  0.0206],\n",
      "        [-0.2009, -0.4050, -0.3309, -1.0108, -0.1908, -0.2926, -0.1634],\n",
      "        [-0.0444, -0.2911, -1.3004, -1.0113, -1.0382, -0.7361, -0.3408],\n",
      "        [ 0.2358,  0.0134,  0.0560,  0.0977,  0.3289,  0.3199,  0.1122]])\n",
      "torch.Size([1, 7])\n",
      "torch.Size([7, 7])\n"
     ]
    },
    {
     "data": {
      "text/plain": [
       "tensor([[ 0.7362,  0.2507,  0.4451, -0.5870],\n",
       "        [ 1.1781, -1.2679, -0.2980,  0.0177]], device='cuda:0')"
      ]
     },
     "execution_count": 30,
     "metadata": {},
     "output_type": "execute_result"
    }
   ],
   "source": [
    "# 3. Perform a matrix multiplication on the tensor another random tensor with shape (1, 7)\n",
    "torch.manual_seed(0)\n",
    "matrix = torch.randn(1,7)\n",
    "print((matrix.T) * randon)\n",
    "print(matrix.shape)\n",
    "print(randon.shape)\n",
    "# Set the random seed to 0 and do 2 & 3 over again.\n",
    "\n",
    "# Set random seed on the GPU\n",
    "torch.cuda.manual_seed(21)\n",
    "torch.randn(2,4, device=cuda)"
   ]
  },
  {
   "cell_type": "code",
   "execution_count": 31,
   "metadata": {},
   "outputs": [
    {
     "name": "stdout",
     "output_type": "stream",
     "text": [
      "True\n",
      "tensor([[-0.2818, -0.2525,  0.1213],\n",
      "        [ 0.9281,  0.4733,  0.0329]], device='cuda:0') tensor([[-1.0594, -2.3625, -0.4695],\n",
      "        [-1.5274, -1.8625,  0.1973]], device='cuda:0')\n",
      "tensor([[ 0.2986,  0.5965, -0.0569],\n",
      "        [-1.4175, -0.8815,  0.0065]], device='cuda:0') tensor(1, device='cuda:0') tensor(3, device='cuda:0')\n"
     ]
    }
   ],
   "source": [
    "print(torch.cuda.is_available())\n",
    "A = torch.randn(2,3, device=cuda)\n",
    "B = torch.randn(2,3, device = cuda)\n",
    "print(A,B)\n",
    "# Perform a matrix multiplication on the tensors\n",
    "out = A * B\n",
    "print(out, torch.argmax(out),torch.argmin(out))"
   ]
  },
  {
   "cell_type": "code",
   "execution_count": 32,
   "metadata": {},
   "outputs": [
    {
     "name": "stdout",
     "output_type": "stream",
     "text": [
      "torch.Size([1, 1, 1, 10])\n"
     ]
    },
    {
     "data": {
      "text/plain": [
       "torch.Size([1, 1, 10])"
      ]
     },
     "execution_count": 32,
     "metadata": {},
     "output_type": "execute_result"
    }
   ],
   "source": [
    "random_tensor_10 = torch.rand(size = (1,1,1,10))\n",
    "print(random_tensor_10.shape)\n",
    "random_tensor_10 = random_tensor_10.squeeze(dim=0)\n",
    "random_tensor_10.shape"
   ]
  },
  {
   "cell_type": "code",
   "execution_count": null,
   "metadata": {},
   "outputs": [],
   "source": []
  }
 ],
 "metadata": {
  "kernelspec": {
   "display_name": "Python 3",
   "language": "python",
   "name": "python3"
  },
  "language_info": {
   "codemirror_mode": {
    "name": "ipython",
    "version": 3
   },
   "file_extension": ".py",
   "mimetype": "text/x-python",
   "name": "python",
   "nbconvert_exporter": "python",
   "pygments_lexer": "ipython3",
   "version": "3.10.11"
  },
  "orig_nbformat": 4
 },
 "nbformat": 4,
 "nbformat_minor": 2
}
