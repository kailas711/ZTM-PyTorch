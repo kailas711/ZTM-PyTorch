{
 "cells": [
  {
   "attachments": {},
   "cell_type": "markdown",
   "metadata": {},
   "source": [
    "# 00. PyTorch Fundamentals\n",
    "\n",
    "**Fundementals**"
   ]
  },
  {
   "cell_type": "code",
   "execution_count": 2,
   "metadata": {},
   "outputs": [
    {
     "data": {
      "text/plain": [
       "'2.0.0+cu118'"
      ]
     },
     "execution_count": 2,
     "metadata": {},
     "output_type": "execute_result"
    }
   ],
   "source": [
    "import torch \n",
    "torch.__version__"
   ]
  },
  {
   "attachments": {},
   "cell_type": "markdown",
   "metadata": {},
   "source": [
    "A scalar is a single number and in tensor-speak it's a zero dimension tensor."
   ]
  },
  {
   "cell_type": "code",
   "execution_count": 3,
   "metadata": {},
   "outputs": [
    {
     "name": "stdout",
     "output_type": "stream",
     "text": [
      "tensor(7)\n",
      "dimension  0\n",
      "retive the number from scalar   7\n"
     ]
    }
   ],
   "source": [
    "scalar = torch.tensor(7)\n",
    "print(scalar)\n",
    "print(\"dimension \" , scalar.ndim)\n",
    "print(\"Retrive the number from scalar  \", scalar.item())"
   ]
  },
  {
   "attachments": {},
   "cell_type": "markdown",
   "metadata": {},
   "source": [
    "A vector is a single dimension tensor but can contain many numbers. \n",
    "\n",
    "\n",
    "`shape` attribute tells you how the elements inside them are arranged."
   ]
  },
  {
   "cell_type": "code",
   "execution_count": 4,
   "metadata": {},
   "outputs": [
    {
     "name": "stdout",
     "output_type": "stream",
     "text": [
      "tensor([4, 5, 9])\n",
      "dimension  1\n",
      "Shape  torch.Size([3])\n"
     ]
    }
   ],
   "source": [
    "vector = torch.tensor([4,5,9])\n",
    "print(vector)\n",
    "print(\"dimension \", vector.ndim)\n",
    "print(\"Shape \", vector.shape)"
   ]
  },
  {
   "cell_type": "code",
   "execution_count": 5,
   "metadata": {},
   "outputs": [
    {
     "name": "stdout",
     "output_type": "stream",
     "text": [
      "tensor([[ 7,  8],\n",
      "        [ 9, 10]])\n",
      "dimension 2\n",
      "size torch.Size([2, 2])\n"
     ]
    }
   ],
   "source": [
    "matrix = torch.tensor([[7,8],\n",
    "                      [9,10]])\n",
    "print(matrix)\n",
    "print(\"dimension\" , matrix.ndim)\n",
    "print(\"size\", matrix.size())"
   ]
  },
  {
   "cell_type": "code",
   "execution_count": 6,
   "metadata": {},
   "outputs": [
    {
     "name": "stdout",
     "output_type": "stream",
     "text": [
      "tensor([[[1, 3, 4],\n",
      "         [2, 4, 7],\n",
      "         [7, 8, 0]]])\n",
      "dimension  3\n",
      "size  torch.Size([1, 3, 3])\n"
     ]
    }
   ],
   "source": [
    "tensor = torch.tensor([[[1,3,4],\n",
    "                       [2,4,7],\n",
    "                       [7,8,0]]])\n",
    "print(tensor)\n",
    "print(\"dimension \",tensor.ndim)\n",
    "print(\"size \",tensor.size())"
   ]
  },
  {
   "attachments": {},
   "cell_type": "markdown",
   "metadata": {},
   "source": [
    "**Random Tensors**"
   ]
  },
  {
   "cell_type": "code",
   "execution_count": 7,
   "metadata": {},
   "outputs": [
    {
     "name": "stdout",
     "output_type": "stream",
     "text": [
      "tensor([[0.5120, 0.8640, 0.7473],\n",
      "        [0.4981, 0.2302, 0.2306]])\n",
      "2\n",
      "torch.Size([2, 3])\n",
      "torch.float32\n"
     ]
    }
   ],
   "source": [
    "random_tensor = torch.rand(size = (2,3))\n",
    "print(random_tensor)\n",
    "print(random_tensor.ndim)\n",
    "print(random_tensor.shape)\n",
    "print(random_tensor.dtype)"
   ]
  },
  {
   "cell_type": "code",
   "execution_count": 8,
   "metadata": {},
   "outputs": [
    {
     "name": "stdout",
     "output_type": "stream",
     "text": [
      "torch.Size([2, 244, 244])\n",
      "3\n",
      "tensor([[[0.3402, 0.8385, 0.6069,  ..., 0.9604, 0.5758, 0.9679],\n",
      "         [0.1572, 0.5449, 0.2226,  ..., 0.5071, 0.2701, 0.7006],\n",
      "         [0.0659, 0.4626, 0.7292,  ..., 0.6822, 0.2781, 0.0768],\n",
      "         ...,\n",
      "         [0.4151, 0.8583, 0.9644,  ..., 0.8093, 0.9541, 0.0216],\n",
      "         [0.9331, 0.6560, 0.4613,  ..., 0.5005, 0.6078, 0.0818],\n",
      "         [0.6228, 0.2503, 0.2066,  ..., 0.9106, 0.3193, 0.5696]],\n",
      "\n",
      "        [[0.7317, 0.4505, 0.7840,  ..., 0.0538, 0.2118, 0.4713],\n",
      "         [0.2162, 0.2610, 0.5978,  ..., 0.3763, 0.2403, 0.4977],\n",
      "         [0.7271, 0.2232, 0.1710,  ..., 0.0909, 0.2769, 0.8965],\n",
      "         ...,\n",
      "         [0.3620, 0.0589, 0.9780,  ..., 0.7204, 0.8454, 0.1442],\n",
      "         [0.6608, 0.3466, 0.1239,  ..., 0.6287, 0.3220, 0.4940],\n",
      "         [0.2434, 0.4434, 0.7015,  ..., 0.6454, 0.6945, 0.0096]]])\n"
     ]
    }
   ],
   "source": [
    "img_size_tensor = torch.rand(size = (2,244,244))\n",
    "print(img_size_tensor.size())\n",
    "print(img_size_tensor.ndim)\n",
    "print(img_size_tensor)"
   ]
  },
  {
   "attachments": {},
   "cell_type": "markdown",
   "metadata": {},
   "source": [
    "**Zeros and ones**"
   ]
  },
  {
   "cell_type": "code",
   "execution_count": 9,
   "metadata": {},
   "outputs": [
    {
     "name": "stdout",
     "output_type": "stream",
     "text": [
      "tensor([[0., 0., 0.],\n",
      "        [0., 0., 0.],\n",
      "        [0., 0., 0.]])\n",
      "torch.float32\n",
      "tensor([[1., 1., 1.],\n",
      "        [1., 1., 1.],\n",
      "        [1., 1., 1.]])\n",
      "torch.float32\n"
     ]
    }
   ],
   "source": [
    "zeros = torch.zeros(size = (3,3))\n",
    "print(zeros)\n",
    "print(zeros.dtype)\n",
    "ones = torch.ones(size = (3,3))\n",
    "print(ones)\n",
    "print(ones.dtype)"
   ]
  },
  {
   "cell_type": "code",
   "execution_count": 10,
   "metadata": {},
   "outputs": [
    {
     "data": {
      "text/plain": [
       "tensor([ 0, 10, 20, 30, 40, 50, 60, 70, 80, 90])"
      ]
     },
     "execution_count": 10,
     "metadata": {},
     "output_type": "execute_result"
    }
   ],
   "source": [
    "zero_ten = torch.arange(0,100,10)\n",
    "zero_ten"
   ]
  },
  {
   "attachments": {},
   "cell_type": "markdown",
   "metadata": {},
   "source": [
    "Sometimes if you wanna make tensors of same size we can use `torch.ones_like(input)` and `torch.zero_like(input)`"
   ]
  },
  {
   "cell_type": "code",
   "execution_count": 11,
   "metadata": {},
   "outputs": [
    {
     "name": "stdout",
     "output_type": "stream",
     "text": [
      "tensor([1, 1, 1, 1, 1, 1, 1, 1, 1, 1])\n",
      "tensor([0, 0, 0, 0, 0, 0, 0, 0, 0, 0])\n"
     ]
    }
   ],
   "source": [
    "print(torch.ones_like(zero_ten))\n",
    "print(torch.zeros_like(zero_ten))"
   ]
  },
  {
   "attachments": {},
   "cell_type": "markdown",
   "metadata": {},
   "source": [
    "**Tensor datatypes**"
   ]
  },
  {
   "cell_type": "code",
   "execution_count": 12,
   "metadata": {},
   "outputs": [
    {
     "data": {
      "text/plain": [
       "(tensor([1., 2., 3., 4., 5.]),\n",
       " torch.float32,\n",
       " torch.Size([5]),\n",
       " device(type='cpu'))"
      ]
     },
     "execution_count": 12,
     "metadata": {},
     "output_type": "execute_result"
    }
   ],
   "source": [
    "float_tensor = torch.tensor([1.0,2.0,3,4,5],\n",
    "                            device = None,\n",
    "                            requires_grad = False,\n",
    "                            dtype = None)\n",
    "\n",
    "float_tensor , float_tensor.dtype, float_tensor.size(), float_tensor.device"
   ]
  },
  {
   "cell_type": "code",
   "execution_count": 13,
   "metadata": {},
   "outputs": [
    {
     "data": {
      "text/plain": [
       "tensor([1., 9., 9.], dtype=torch.float16)"
      ]
     },
     "execution_count": 13,
     "metadata": {},
     "output_type": "execute_result"
    }
   ],
   "source": [
    "float16_tensor = torch.tensor([1.0,9.0,9.0],\n",
    "                              dtype = torch.float16)\n",
    "float16_tensor"
   ]
  },
  {
   "attachments": {},
   "cell_type": "markdown",
   "metadata": {},
   "source": [
    "**Tensor manipulation**\n",
    "\n",
    "- Addition\n",
    "- Substraction\n",
    "- Multiplication (element-wise)\n",
    "- Division\n",
    "- Matrix multiplication\n",
    "\n",
    "Note - values inside a `tensor` does not change unless reassigned \n"
   ]
  },
  {
   "cell_type": "code",
   "execution_count": 14,
   "metadata": {},
   "outputs": [
    {
     "name": "stdout",
     "output_type": "stream",
     "text": [
      "tensor([10, 20, 40, 50]) tensor([-9, -8, -6, -5]) tensor([12, 24, 48, 60])\n",
      "tensor([12, 24, 48, 60]) tensor([13, 14, 16, 17]) tensor([-9, -8, -6, -5])\n"
     ]
    }
   ],
   "source": [
    "tensor = torch.tensor([1,2,4,5])\n",
    "print(tensor * 10, tensor - 10, tensor * 12)\n",
    "print(tensor.mul(12),tensor.add(12),tensor.sub(10))"
   ]
  },
  {
   "attachments": {},
   "cell_type": "markdown",
   "metadata": {},
   "source": [
    "**Matrix Multiplication**\n",
    "\n",
    "- The inner dimensions must match:\n",
    "\n",
    "(3, 2) @ (3, 2) won't work\n",
    "\n",
    "(2, 3) @ (3, 2) will work\n",
    "\n",
    "(3, 2) @ (2, 3) will work\n",
    "\n",
    "- The resulting matrix has the shape of the outer dimensions:\n",
    "\n",
    "(2, 3) @ (3, 2) -> (2, 2)\n",
    "\n",
    "(3, 2) @ (2, 3) -> (3, 3)"
   ]
  },
  {
   "cell_type": "code",
   "execution_count": 15,
   "metadata": {},
   "outputs": [
    {
     "name": "stdout",
     "output_type": "stream",
     "text": [
      "torch.Size([])\n",
      "torch.Size([2])\n",
      "torch.Size([10, 3])\n",
      "torch.Size([10, 3, 5])\n",
      "torch.Size([10, 3, 5])\n"
     ]
    }
   ],
   "source": [
    "# vector x vector \n",
    "tensor_1 = torch.randn(3)\n",
    "tensor_2 = torch.randn(3)\n",
    "print(torch.matmul(tensor_1,tensor_2).size())\n",
    "\n",
    "# vector x matrix \n",
    "tensor_1 = torch.randn(3)\n",
    "tensor_2 = torch.randn(3,2)\n",
    "print((tensor_1 @ tensor_2).size())\n",
    "\n",
    "# batched matrix x broadcasted vector \n",
    "tensor_1 = torch.randn(10,3,4)\n",
    "tensor_2 = torch.randn(4)\n",
    "print((tensor_1 @ tensor_2).size())\n",
    "\n",
    "# batched matrix x batched matirx\n",
    "tensor_1 = torch.randn(10 , 3, 4)\n",
    "tensor_2 = torch.randn(10, 4 , 5)\n",
    "print((tensor_1 @ tensor_2).size())\n",
    "\n",
    "# batched matrix x broadcasted matrix\n",
    "tensor_1 = torch.randn(10 , 3, 4)\n",
    "tensor_2 = torch.randn(4,5)\n",
    "print((tensor_1 @ tensor_2).size())\n"
   ]
  },
  {
   "cell_type": "code",
   "execution_count": 16,
   "metadata": {},
   "outputs": [
    {
     "data": {
      "text/plain": [
       "tensor([[38., 18., 13.],\n",
       "        [53., 27., 18.],\n",
       "        [83., 45., 28.]])"
      ]
     },
     "execution_count": 16,
     "metadata": {},
     "output_type": "execute_result"
    }
   ],
   "source": [
    "A = torch.tensor([[2.,3],\n",
    "                  [3,4],\n",
    "                  [5,6]])\n",
    "\n",
    "B = torch.tensor([[7.,8],\n",
    "                  [9,0],\n",
    "                  [2,3]])\n",
    "\n",
    "torch.mm(A,B.T)"
   ]
  },
  {
   "attachments": {},
   "cell_type": "markdown",
   "metadata": {},
   "source": [
    "**torch.nn.Linear()**"
   ]
  },
  {
   "cell_type": "code",
   "execution_count": 19,
   "metadata": {},
   "outputs": [
    {
     "name": "stdout",
     "output_type": "stream",
     "text": [
      "Input shape is  torch.Size([3, 2])\n",
      "Output shape is  torch.Size([3, 6])\n"
     ]
    }
   ],
   "source": [
    "torch.manual_seed(23)\n",
    "\n",
    "linear = torch.nn.Linear(in_features=2,\n",
    "                         out_features =6)\n",
    "\n",
    "print(\"Input shape is \", A.shape)\n",
    "print(\"Output shape is \",linear(A).shape)"
   ]
  },
  {
   "attachments": {},
   "cell_type": "markdown",
   "metadata": {},
   "source": [
    "**Finding the min, max, mean, sum, etc (aggregation)**"
   ]
  },
  {
   "cell_type": "code",
   "execution_count": 20,
   "metadata": {},
   "outputs": [
    {
     "name": "stdout",
     "output_type": "stream",
     "text": [
      "tensor(0)\n",
      "tensor(90)\n",
      "tensor(45.)\n",
      "tensor(450)\n"
     ]
    }
   ],
   "source": [
    "x = torch.arange(0,100,10)\n",
    "print(x.min())\n",
    "print(x.max())\n",
    "print(x.type(torch.float32).mean())\n",
    "print(x.sum())"
   ]
  },
  {
   "attachments": {},
   "cell_type": "markdown",
   "metadata": {},
   "source": [
    "You can also find the index of a tensor where the max or minimum occurs with `torch.argmax()` and `torch.argmin()` respectively."
   ]
  },
  {
   "cell_type": "code",
   "execution_count": 21,
   "metadata": {},
   "outputs": [
    {
     "name": "stdout",
     "output_type": "stream",
     "text": [
      "Max at : tensor(8)\n",
      "Min at : tensor(0)\n"
     ]
    }
   ],
   "source": [
    "tensor = torch.arange(10,100,10)\n",
    "print(\"Max at :\", tensor.argmax())\n",
    "print(\"Min at :\",tensor.argmin())"
   ]
  },
  {
   "attachments": {},
   "cell_type": "markdown",
   "metadata": {},
   "source": [
    "**Change tensor datatype**"
   ]
  },
  {
   "cell_type": "code",
   "execution_count": 22,
   "metadata": {},
   "outputs": [
    {
     "name": "stdout",
     "output_type": "stream",
     "text": [
      "torch.int64\n"
     ]
    },
    {
     "data": {
      "text/plain": [
       "tensor([10., 20., 30., 40., 50., 60., 70., 80., 90.])"
      ]
     },
     "execution_count": 22,
     "metadata": {},
     "output_type": "execute_result"
    }
   ],
   "source": [
    "tensor = torch.arange(10,100,10)\n",
    "print(tensor.dtype)\n",
    "\n",
    "tensor.type(torch.float32)"
   ]
  },
  {
   "attachments": {},
   "cell_type": "markdown",
   "metadata": {},
   "source": [
    "**Reshaping, stacking, squeezing and unsqueezing**\n",
    "\n",
    "* `torch.reshape(input, shape)` --- Reshapes a tensor according to the shape specified \n",
    "\n",
    "* `torch.Tensor.view(shape)` --- Reshape and present the view of tensor , it shares data with the original tensor so any change in the view changes original tensor \n",
    "\n",
    "* `torch.Tensor.stack([x,x,x],dim=0)`--- Stacking tensor on top of other , dim=0 means through row-wise\n",
    "\n",
    "* `torch.Tensor.squeeze()` -- remove one dim\n",
    "\n",
    "* ` torch.Tensor.permute(2,0,1)` -- shifts axis by 0->2 , 1->0 , 2->1 of original tensor"
   ]
  },
  {
   "cell_type": "code",
   "execution_count": 23,
   "metadata": {},
   "outputs": [
    {
     "name": "stdout",
     "output_type": "stream",
     "text": [
      "torch.Size([6])\n",
      "tensor([[1, 2, 3, 4, 5, 6]])\n",
      "tensor([[1, 2, 3],\n",
      "        [4, 5, 6]])\n",
      "tensor([[1, 2, 3, 4, 5, 6],\n",
      "        [1, 2, 3, 4, 5, 6],\n",
      "        [1, 2, 3, 4, 5, 6]])\n",
      "Before squeezing:  torch.Size([1, 6])\n",
      "After squeezing : torch.Size([6])\n"
     ]
    }
   ],
   "source": [
    "tensor = torch.tensor([1,2,3,4,5,6])\n",
    "print(tensor.shape)\n",
    "\n",
    "# adding extra dim \n",
    "print(tensor.reshape(1,6))\n",
    "\n",
    "#change view \n",
    "print(tensor.view(2,3))\n",
    "\n",
    "# stack new tensor on top of other\n",
    "stacked = torch.stack([tensor,tensor,tensor], dim=0)\n",
    "print(stacked)\n",
    "\n",
    "# removing a dim from tensor\n",
    "tensor_reshaped = tensor.reshape(1,6)\n",
    "print(\"Before squeezing: \",tensor_reshaped.shape)\n",
    "print(\"After squeezing :\",tensor_reshaped.squeeze().shape)\n"
   ]
  },
  {
   "cell_type": "code",
   "execution_count": 24,
   "metadata": {},
   "outputs": [
    {
     "name": "stdout",
     "output_type": "stream",
     "text": [
      "Original shape torch.Size([224, 224, 3])\n",
      "permute torch.Size([3, 224, 224])\n"
     ]
    }
   ],
   "source": [
    "# permute tensor \n",
    "original = torch.randn(size = (224,224,3))\n",
    "permute = original.permute(2,0,1) # shifts axis by 0->2 , 1->0 , 2->1\n",
    "print(\"Original shape\", original.shape)\n",
    "print(\"permute\",permute.shape)"
   ]
  },
  {
   "attachments": {},
   "cell_type": "markdown",
   "metadata": {},
   "source": [
    "**Indexing(slicing data from tensor)**"
   ]
  },
  {
   "cell_type": "code",
   "execution_count": 26,
   "metadata": {},
   "outputs": [
    {
     "data": {
      "text/plain": [
       "tensor([[[1, 2, 3],\n",
       "         [4, 5, 6],\n",
       "         [7, 8, 9]]])"
      ]
     },
     "execution_count": 26,
     "metadata": {},
     "output_type": "execute_result"
    }
   ],
   "source": [
    "x"
   ]
  },
  {
   "cell_type": "code",
   "execution_count": 25,
   "metadata": {},
   "outputs": [
    {
     "name": "stdout",
     "output_type": "stream",
     "text": [
      "tensor([[2, 5, 8]])\n",
      "tensor([5])\n"
     ]
    }
   ],
   "source": [
    "import torch\n",
    "x = torch.arange(1,10).reshape(1,3,3)\n",
    "print(x[:,:,1])\n",
    "print(x[:,1,1])"
   ]
  },
  {
   "attachments": {},
   "cell_type": "markdown",
   "metadata": {},
   "source": [
    "**PyTorch tensors & NumPy**"
   ]
  },
  {
   "cell_type": "code",
   "execution_count": 27,
   "metadata": {},
   "outputs": [
    {
     "name": "stdout",
     "output_type": "stream",
     "text": [
      "tensor([1, 2, 4, 5, 5, 7], dtype=torch.int32) [1 2 4 5 5 7]\n"
     ]
    }
   ],
   "source": [
    "import torch\n",
    "import numpy\n",
    "tensor = numpy.array([1,2,4,5,5,7])\n",
    "trail = torch.from_numpy(tensor)\n",
    "array = trail.numpy()\n",
    "print(trail,array)"
   ]
  },
  {
   "cell_type": "code",
   "execution_count": 28,
   "metadata": {},
   "outputs": [
    {
     "data": {
      "text/plain": [
       "(tensor([2, 3, 5, 6, 6, 8], dtype=torch.int32), array([1, 2, 4, 5, 5, 7]))"
      ]
     },
     "execution_count": 28,
     "metadata": {},
     "output_type": "execute_result"
    }
   ],
   "source": [
    "#  if you change the original tensor, the new numpy_tensor stays the same.\n",
    "trail+1,array"
   ]
  },
  {
   "attachments": {},
   "cell_type": "markdown",
   "metadata": {},
   "source": [
    "**reproducibility**"
   ]
  },
  {
   "cell_type": "code",
   "execution_count": 29,
   "metadata": {},
   "outputs": [
    {
     "name": "stdout",
     "output_type": "stream",
     "text": [
      "tensor([[0.8823, 0.9150, 0.3829, 0.9593],\n",
      "        [0.3904, 0.6009, 0.2566, 0.7936],\n",
      "        [0.9408, 0.1332, 0.9346, 0.5936]])\n",
      "tensor([[0.8694, 0.5677],\n",
      "        [0.7411, 0.4294],\n",
      "        [0.8854, 0.5739]])\n"
     ]
    }
   ],
   "source": [
    "import torch\n",
    "import random \n",
    "\n",
    "RANDOM_SEED = 42\n",
    "torch.manual_seed(RANDOM_SEED)\n",
    "random_tensor = torch.rand(3,4)\n",
    "print(random_tensor)\n",
    "\n",
    "random_tensor_2 = torch .rand(3,2)\n",
    "print(random_tensor_2)"
   ]
  },
  {
   "cell_type": "code",
   "execution_count": 30,
   "metadata": {},
   "outputs": [
    {
     "data": {
      "text/plain": [
       "(True,\n",
       " tensor([[0.8694, 0.5677],\n",
       "         [0.7411, 0.4294],\n",
       "         [0.8854, 0.5739]], device='cuda:0'),\n",
       " tensor([[0.8694, 0.5677],\n",
       "         [0.7411, 0.4294],\n",
       "         [0.8854, 0.5739]]))"
      ]
     },
     "execution_count": 30,
     "metadata": {},
     "output_type": "execute_result"
    }
   ],
   "source": [
    "torch.cuda.is_available(),random_tensor_2.to('cuda'),random_tensor_2.cpu()"
   ]
  }
 ],
 "metadata": {
  "kernelspec": {
   "display_name": "Python 3",
   "language": "python",
   "name": "python3"
  },
  "language_info": {
   "codemirror_mode": {
    "name": "ipython",
    "version": 3
   },
   "file_extension": ".py",
   "mimetype": "text/x-python",
   "name": "python",
   "nbconvert_exporter": "python",
   "pygments_lexer": "ipython3",
   "version": "3.10.11"
  },
  "orig_nbformat": 4
 },
 "nbformat": 4,
 "nbformat_minor": 2
}
